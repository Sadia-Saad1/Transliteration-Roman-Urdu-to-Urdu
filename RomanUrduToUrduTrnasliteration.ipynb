{
 "cells": [
  {
   "cell_type": "markdown",
   "id": "202813c0",
   "metadata": {},
   "source": [
    "## Sadia Saad i180698@nu.edu.pk\n",
    "## Transliteration: Roman Urdu - Urdu"
   ]
  },
  {
   "cell_type": "markdown",
   "id": "5adce107",
   "metadata": {},
   "source": [
    "## Dictionary"
   ]
  },
  {
   "cell_type": "code",
   "execution_count": 181,
   "id": "554f8acc",
   "metadata": {
    "scrolled": true
   },
   "outputs": [],
   "source": [
    "corpus = {\n",
    "            \n",
    "            u\"\\u0622\":\"AA\",\n",
    "            u\"و\":\"AU\",\n",
    "            u\"\\u0627\":\"A\",\n",
    "            u\"\\u0627\":\"A\", \n",
    "            u\"\\u0675\":\"A\", \n",
    "            u\"\\u0673\":\"A\", \n",
    "            u\"\\u0630\":\"A\", \n",
    "            u\"رو\":\"RO\", \n",
    "            u\"\\u0686\":\"CH\", \n",
    "            u\"اور\":\"OR\",\n",
    "            u\"یہ\" : \"YE\",\n",
    "            u\"وھ\":\"WOH\", \n",
    "            u\"ر\":\"AR\",         \n",
    "            u\"\\u0628\":\"BB\",\n",
    "            u\"\\u0628\":\"BE\",\n",
    "            u\"\\u0628\":\"B\", \n",
    "            \n",
    "            u\"ہو\":\"HO\",\n",
    "            u\"اف\":\"UF\",\n",
    "            u\"ھ\":\"HA\",\n",
    "            u\"\\u067E\":\"P\", \n",
    "            u\"تو\":\"TO\",         \n",
    "            u\"\\u062A\":\"T\", \n",
    "            u\"\\u0637\":\"T\", \n",
    "            u\"\\u0679\":\"T\", \n",
    "            u\"\\u062C\":\"J\",         \n",
    "            u\"ئٹ\":\"GHT\",\n",
    "            u\"ڑھ\":\"RH\",\n",
    "            u\"\\u0634\":\"SH\",\n",
    "            u\"\\u0633\":\"S\",\n",
    "            u\"‫کے‬\":\"KAY\",\n",
    "            u\"اس\":\"IS\",\n",
    "            u\"\\u0633\":\"S\", \n",
    "            u\"\\u0633\":\"S\", \n",
    "            u\"\\u0633\":\"S\",\n",
    "            u\"ہے\":\"HAI\",\n",
    "            \n",
    "            u\"ھ\":\"TH\",\n",
    "            u\"ہ\":\"OH\",       \n",
    "            u\"و\":\"W\",            \n",
    "            u\"\\u062D\":\"H\", \n",
    "            u\"\\u0647\":\"H\", \n",
    "            u\"\\u0629\":\"H\", \n",
    "            u\"\\u06DF\":\"H\",            \n",
    "            u\"\\u062E\":\"KH\",\n",
    "            u\"یہ\":\"yeh\",\n",
    "            u\"\\u062F\":\"D\", \n",
    "            u\"\\u0688\":\"D\", \n",
    "            u\"\\u0630\":\"Z\", \n",
    "            u\"\\u0632\":\"Z\", \n",
    "            u\"\\u0636\":\"Z\", \n",
    "            u\"\\u0638\":\"Z\", \n",
    "            u\"\\u068E\":\"Z\", \n",
    "            u\"\\u0631\":\"R\", \n",
    "            u\"\\u0691\":\"R\",   \n",
    "            u\"\\u063A\":\"GH\",\n",
    "            #u\"ای\":\"E\",\n",
    "            u\"فو\":\"FAW\",\n",
    "            u\"ف\":\"F\",\n",
    "            u\"ھ\":\"HA\",\n",
    "            u\"او\":\"O\",\n",
    "            u\"آئ\" : \"OI\",\n",
    "            u\"ی\" : \"AI\",\n",
    "            u\"ہے\" : \"AY\",     \n",
    "            u\"و\":\"W\",\n",
    "            u\"کو\":\"KO\",\n",
    "            \n",
    "            u\"\\u06A9\":\"K\", \n",
    "            u\"\\u0642\":\"Q\", \n",
    "            u\"\\u06AF\":\"G\", \n",
    "            u\"\\u0644\":\"L\", \n",
    "            u\"\\u0645\":\"M\",\n",
    "            u\"\\u0646\":\"N\", \n",
    "            u\"\\u06BA\":\"N\", \n",
    "            u\"\\u0648\":\"OO\", \n",
    "            u\"\\u06D2\":\"AY\",\n",
    "            u\"\\u0649\":\"Y\", \n",
    "            u\"\\u0626\":\"Y\", \n",
    "            u\"\\u06CC\":\"Y\", \n",
    "            u\"\\u06CC\":\"I\",\n",
    "            u\"\\u064A\":\"E\",\n",
    "            #u\"\\u06D2\":\"E\",\n",
    "            u\"\\u06C1\":\"H\", \n",
    "            u\"\\u06C2\":\"AH\"  ,\n",
    "            u\"\\u06BE\":\"H\"  ,\n",
    "            u\"\\u0639\":\"A\"  ,\n",
    "            u\"\\u0643\":\"K\" ,\n",
    "            u\"\\u0621\":\"A\", \n",
    "            u\"وا\":\"VE\",\n",
    "            u\"وا\":\"VO\",\n",
    "            u\"و\":\"U\",\n",
    "            \n",
    "            #u\"س\":\"C\",\n",
    "            u\"\\u060C\":\"\" \n",
    "}\n"
   ]
  },
  {
   "cell_type": "markdown",
   "id": "99a1603d",
   "metadata": {},
   "source": [
    "## Urdu to Roman Conversion\n",
    "\n",
    "This function takes the input text string\n",
    "and loops over the dictionary\n",
    "it replaces the text string with its roman replacement given in the dictionary.\n",
    "and at the end it removes the commas from the text to make it readable."
   ]
  },
  {
   "cell_type": "code",
   "execution_count": 182,
   "id": "6dcd291a",
   "metadata": {},
   "outputs": [],
   "source": [
    "def urdu2roman(text):\n",
    "    \n",
    "    newstr = '' \n",
    "    for a, b in corpus.items():        \n",
    "        text = text.replace(a, b)\n",
    "        newstr=text\n",
    "\n",
    "    for i in range(0,len(text)-1):\n",
    "        \n",
    "        if text[i]=='،':\n",
    "            newstr=text.replace(string[i],'')\n",
    "        \n",
    "    return newstr\n"
   ]
  },
  {
   "cell_type": "markdown",
   "id": "66c62548",
   "metadata": {},
   "source": [
    "## Roman to Urdu Conversion\n",
    "This function does the opposite of the previous one.It takes the input text string\n",
    "and loops over the dictionary\n",
    "it replaces the text string with its urdu replacement given in the dictionary.\n",
    "and at the end it removes the commas from the text to make it readable."
   ]
  },
  {
   "cell_type": "code",
   "execution_count": 183,
   "id": "77448418",
   "metadata": {},
   "outputs": [],
   "source": [
    "def roman2urdu(text):\n",
    "    \n",
    "    newstr = '' \n",
    "\n",
    "    for a, b in corpus.items():\n",
    "        \n",
    "        text = text.upper()\n",
    "        text = text.replace(b, a)            \n",
    "    \n",
    "    for i in range(0,len(text)-1):\n",
    "        \n",
    "        if text[i]=='،':\n",
    "            newstr=text.replace(text[i],'')\n",
    "        \n",
    "    return newstr"
   ]
  },
  {
   "cell_type": "markdown",
   "id": "c8f763f3",
   "metadata": {},
   "source": [
    "## Testing Urdu to Roman"
   ]
  },
  {
   "cell_type": "code",
   "execution_count": 184,
   "id": "d8bc3a77",
   "metadata": {},
   "outputs": [
    {
     "name": "stdout",
     "output_type": "stream",
     "text": [
      "فوارہ\n",
      "FUARH\n",
      "\n",
      "\n",
      "یہ شام پھر نہیں آئے گی\n",
      "yeh SHAM PHR NHIN AAYAY GI\n",
      "\n",
      "\n",
      "یہی تو میں ان سے بھی کہہ رہا تھا\n",
      "yehI TU MIN AN SAY BHI KHH RHA THA\n",
      "\n",
      "\n",
      "صرف شکلیں پیاری نہیں باتیں بھی اچھی ہونی چاہئے\n",
      "صRF SHKLIN PIARI NHIN BATIN BHI ACHHI HUNI CHAHYAY\n",
      "\n",
      "\n",
      "اگر میرے پاس بہت ساری دولت ہے مجھے انسان انسان نہیں لگے گا۔۔ می خود کو کوئی اور ہی مخلوق سمجھ بیٹھوں گا\n",
      "AGR MIRAY PAS BHT SARI DULT AY MJHAY ANSAN ANSAN NHIN LGAY GA۔۔ MI KHUD KU KUYI AUR HI MKHLUQ SMJH BITHUN GA\n",
      "\n",
      "\n"
     ]
    }
   ],
   "source": [
    "\n",
    "text = 'فوارہ'\n",
    "print(text)\n",
    "print(urdu2roman(text))\n",
    "print('\\n')\n",
    "\n",
    "text = 'یہ شام پھر نہیں آئے گی'\n",
    "print(text)\n",
    "print(urdu2roman(text))\n",
    "print('\\n')\n",
    "\n",
    "text = 'یہی تو میں ان سے بھی کہہ رہا تھا'\n",
    "print(text)\n",
    "print(urdu2roman(text))\n",
    "print('\\n')\n",
    "text = 'صرف شکلیں پیاری نہیں باتیں بھی اچھی ہونی چاہئے'\n",
    "print(text)\n",
    "print(urdu2roman(text))\n",
    "print('\\n')\n",
    "text = 'اگر میرے پاس بہت ساری دولت ہے مجھے انسان انسان نہیں لگے گا۔۔ می خود کو کوئی اور ہی مخلوق سمجھ بیٹھوں گا'\n",
    "print(text)\n",
    "print(urdu2roman(text))\n",
    "print('\\n')\n"
   ]
  },
  {
   "cell_type": "markdown",
   "id": "e8ddc17f",
   "metadata": {},
   "source": [
    "## Testing Roman to Urdu"
   ]
  },
  {
   "cell_type": "code",
   "execution_count": 185,
   "id": "6382e97c",
   "metadata": {
    "scrolled": true
   },
   "outputs": [
    {
     "name": "stdout",
     "output_type": "stream",
     "text": [
      "sirf shaklen pyari nhi baten bhi achi honi chahye\n",
      "سیرف سھاکلين پىاری نھی باتين بھی اچی ہونی چاھىي\n",
      "\n",
      "\n",
      "naukar apne aap ko ghar ka maalik samajhne laga hai\n",
      "ناوکار اپني آپ کاو گھار کا مآلیک ساماجھني لاگا ھای\n",
      "\n",
      "\n",
      "woh ya to badtameez ho jate hain ya phir sehmay hoe rehte hain\n",
      "وھ ىا تو بادتامييذ ہو جاتي ھاین ىا پھیر سيھماى ہوي ريھتي ھاین\n",
      "\n",
      "\n",
      "bechara achi khasi shakal soorat ka tha aur sab uss ka itna q bana rahey thee\n",
      "بيچارا اچی کھاسی سھاکال ساواورات کا تھا اور ساب وسس کا یتنا ق بانا راھيى تھيي\n",
      "\n",
      "\n",
      "Maafi say brh kay abb raha kiya hay?\n",
      "مآفی ساى برھ کاى ابب راھا کیىا ھاى?\n",
      "\n",
      "\n"
     ]
    }
   ],
   "source": [
    "text = 'sirf shaklen pyari nhi baten bhi achi honi chahye'\n",
    "print(text)\n",
    "print(roman2urdu(text))\n",
    "print('\\n')\n",
    "\n",
    "text = 'naukar apne aap ko ghar ka maalik samajhne laga hai'\n",
    "print(text)\n",
    "print(roman2urdu(text))\n",
    "print('\\n')\n",
    "\n",
    "text = 'woh ya to badtameez ho jate hain ya phir sehmay hoe rehte hain'\n",
    "print(text)\n",
    "print(roman2urdu(text))\n",
    "print('\\n')\n",
    "\n",
    "\n",
    "text = 'bechara achi khasi shakal soorat ka tha aur sab uss ka itna q bana rahey thee'\n",
    "print(text)\n",
    "print(roman2urdu(text))\n",
    "print('\\n')\n",
    "\n",
    "\n",
    "text = 'Maafi say brh kay abb raha kiya hay?'\n",
    "print(text)\n",
    "print(roman2urdu(text))\n",
    "print('\\n')\n",
    "\n",
    "\n"
   ]
  }
 ],
 "metadata": {
  "kernelspec": {
   "display_name": "Python 3",
   "language": "python",
   "name": "python3"
  },
  "language_info": {
   "codemirror_mode": {
    "name": "ipython",
    "version": 3
   },
   "file_extension": ".py",
   "mimetype": "text/x-python",
   "name": "python",
   "nbconvert_exporter": "python",
   "pygments_lexer": "ipython3",
   "version": "3.6.9"
  }
 },
 "nbformat": 4,
 "nbformat_minor": 5
}
